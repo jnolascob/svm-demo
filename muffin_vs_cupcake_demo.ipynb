{
 "cells": [
  {
   "cell_type": "markdown",
   "metadata": {},
   "source": [
    "**Classifying Muffins and Cupcakes with SVM**"
   ]
  },
  {
   "cell_type": "markdown",
   "metadata": {},
   "source": [
    "__Step 1:__ Import Packages"
   ]
  },
  {
   "cell_type": "code",
   "execution_count": 16,
   "metadata": {},
   "outputs": [],
   "source": [
    "# Packages for analysis\n",
    "import pandas as pd\n",
    "import numpy as np\n",
    "from sklearn import svm\n",
    "\n",
    "# Packages for visuals\n",
    "import matplotlib.pyplot as plt\n",
    "import seaborn as sns; sns.set(font_scale=1.2)\n",
    "\n",
    "# Allows charts to appear in the notebook\n",
    "%matplotlib inline\n",
    "\n",
    "# Pickle package\n",
    "import pickle"
   ]
  },
  {
   "cell_type": "markdown",
   "metadata": {},
   "source": [
    "__Step 2:__ Import Data"
   ]
  },
  {
   "cell_type": "code",
   "execution_count": 19,
   "metadata": {},
   "outputs": [
    {
     "data": {
      "text/html": [
       "<div>\n",
       "<style scoped>\n",
       "    .dataframe tbody tr th:only-of-type {\n",
       "        vertical-align: middle;\n",
       "    }\n",
       "\n",
       "    .dataframe tbody tr th {\n",
       "        vertical-align: top;\n",
       "    }\n",
       "\n",
       "    .dataframe thead th {\n",
       "        text-align: right;\n",
       "    }\n",
       "</style>\n",
       "<table border=\"1\" class=\"dataframe\">\n",
       "  <thead>\n",
       "    <tr style=\"text-align: right;\">\n",
       "      <th></th>\n",
       "      <th>Type</th>\n",
       "      <th>Flour</th>\n",
       "      <th>Milk</th>\n",
       "      <th>Sugar</th>\n",
       "      <th>Butter</th>\n",
       "      <th>Egg</th>\n",
       "      <th>Baking Powder</th>\n",
       "      <th>Vanilla</th>\n",
       "      <th>Salt</th>\n",
       "    </tr>\n",
       "  </thead>\n",
       "  <tbody>\n",
       "    <tr>\n",
       "      <th>0</th>\n",
       "      <td>Muffin</td>\n",
       "      <td>55</td>\n",
       "      <td>28</td>\n",
       "      <td>3</td>\n",
       "      <td>7</td>\n",
       "      <td>5</td>\n",
       "      <td>2</td>\n",
       "      <td>0</td>\n",
       "      <td>0</td>\n",
       "    </tr>\n",
       "    <tr>\n",
       "      <th>1</th>\n",
       "      <td>Muffin</td>\n",
       "      <td>47</td>\n",
       "      <td>24</td>\n",
       "      <td>12</td>\n",
       "      <td>6</td>\n",
       "      <td>9</td>\n",
       "      <td>1</td>\n",
       "      <td>0</td>\n",
       "      <td>0</td>\n",
       "    </tr>\n",
       "    <tr>\n",
       "      <th>2</th>\n",
       "      <td>Muffin</td>\n",
       "      <td>47</td>\n",
       "      <td>23</td>\n",
       "      <td>18</td>\n",
       "      <td>6</td>\n",
       "      <td>4</td>\n",
       "      <td>1</td>\n",
       "      <td>0</td>\n",
       "      <td>0</td>\n",
       "    </tr>\n",
       "    <tr>\n",
       "      <th>3</th>\n",
       "      <td>Muffin</td>\n",
       "      <td>45</td>\n",
       "      <td>11</td>\n",
       "      <td>17</td>\n",
       "      <td>17</td>\n",
       "      <td>8</td>\n",
       "      <td>1</td>\n",
       "      <td>0</td>\n",
       "      <td>0</td>\n",
       "    </tr>\n",
       "    <tr>\n",
       "      <th>4</th>\n",
       "      <td>Muffin</td>\n",
       "      <td>50</td>\n",
       "      <td>25</td>\n",
       "      <td>12</td>\n",
       "      <td>6</td>\n",
       "      <td>5</td>\n",
       "      <td>2</td>\n",
       "      <td>1</td>\n",
       "      <td>0</td>\n",
       "    </tr>\n",
       "    <tr>\n",
       "      <th>5</th>\n",
       "      <td>Muffin</td>\n",
       "      <td>55</td>\n",
       "      <td>27</td>\n",
       "      <td>3</td>\n",
       "      <td>7</td>\n",
       "      <td>5</td>\n",
       "      <td>2</td>\n",
       "      <td>1</td>\n",
       "      <td>0</td>\n",
       "    </tr>\n",
       "    <tr>\n",
       "      <th>6</th>\n",
       "      <td>Muffin</td>\n",
       "      <td>54</td>\n",
       "      <td>27</td>\n",
       "      <td>7</td>\n",
       "      <td>5</td>\n",
       "      <td>5</td>\n",
       "      <td>2</td>\n",
       "      <td>0</td>\n",
       "      <td>0</td>\n",
       "    </tr>\n",
       "    <tr>\n",
       "      <th>7</th>\n",
       "      <td>Muffin</td>\n",
       "      <td>47</td>\n",
       "      <td>26</td>\n",
       "      <td>10</td>\n",
       "      <td>10</td>\n",
       "      <td>4</td>\n",
       "      <td>1</td>\n",
       "      <td>0</td>\n",
       "      <td>0</td>\n",
       "    </tr>\n",
       "    <tr>\n",
       "      <th>8</th>\n",
       "      <td>Muffin</td>\n",
       "      <td>50</td>\n",
       "      <td>17</td>\n",
       "      <td>17</td>\n",
       "      <td>8</td>\n",
       "      <td>6</td>\n",
       "      <td>1</td>\n",
       "      <td>0</td>\n",
       "      <td>0</td>\n",
       "    </tr>\n",
       "    <tr>\n",
       "      <th>9</th>\n",
       "      <td>Muffin</td>\n",
       "      <td>50</td>\n",
       "      <td>17</td>\n",
       "      <td>17</td>\n",
       "      <td>11</td>\n",
       "      <td>4</td>\n",
       "      <td>1</td>\n",
       "      <td>0</td>\n",
       "      <td>0</td>\n",
       "    </tr>\n",
       "    <tr>\n",
       "      <th>10</th>\n",
       "      <td>Cupcake</td>\n",
       "      <td>39</td>\n",
       "      <td>0</td>\n",
       "      <td>26</td>\n",
       "      <td>19</td>\n",
       "      <td>14</td>\n",
       "      <td>1</td>\n",
       "      <td>1</td>\n",
       "      <td>0</td>\n",
       "    </tr>\n",
       "    <tr>\n",
       "      <th>11</th>\n",
       "      <td>Cupcake</td>\n",
       "      <td>42</td>\n",
       "      <td>21</td>\n",
       "      <td>16</td>\n",
       "      <td>10</td>\n",
       "      <td>8</td>\n",
       "      <td>3</td>\n",
       "      <td>0</td>\n",
       "      <td>0</td>\n",
       "    </tr>\n",
       "    <tr>\n",
       "      <th>12</th>\n",
       "      <td>Cupcake</td>\n",
       "      <td>34</td>\n",
       "      <td>17</td>\n",
       "      <td>20</td>\n",
       "      <td>20</td>\n",
       "      <td>5</td>\n",
       "      <td>2</td>\n",
       "      <td>1</td>\n",
       "      <td>0</td>\n",
       "    </tr>\n",
       "    <tr>\n",
       "      <th>13</th>\n",
       "      <td>Cupcake</td>\n",
       "      <td>39</td>\n",
       "      <td>13</td>\n",
       "      <td>17</td>\n",
       "      <td>19</td>\n",
       "      <td>10</td>\n",
       "      <td>1</td>\n",
       "      <td>1</td>\n",
       "      <td>0</td>\n",
       "    </tr>\n",
       "    <tr>\n",
       "      <th>14</th>\n",
       "      <td>Cupcake</td>\n",
       "      <td>38</td>\n",
       "      <td>15</td>\n",
       "      <td>23</td>\n",
       "      <td>15</td>\n",
       "      <td>8</td>\n",
       "      <td>0</td>\n",
       "      <td>1</td>\n",
       "      <td>0</td>\n",
       "    </tr>\n",
       "    <tr>\n",
       "      <th>15</th>\n",
       "      <td>Cupcake</td>\n",
       "      <td>42</td>\n",
       "      <td>18</td>\n",
       "      <td>25</td>\n",
       "      <td>9</td>\n",
       "      <td>5</td>\n",
       "      <td>1</td>\n",
       "      <td>0</td>\n",
       "      <td>0</td>\n",
       "    </tr>\n",
       "    <tr>\n",
       "      <th>16</th>\n",
       "      <td>Cupcake</td>\n",
       "      <td>36</td>\n",
       "      <td>14</td>\n",
       "      <td>21</td>\n",
       "      <td>14</td>\n",
       "      <td>11</td>\n",
       "      <td>2</td>\n",
       "      <td>1</td>\n",
       "      <td>0</td>\n",
       "    </tr>\n",
       "    <tr>\n",
       "      <th>17</th>\n",
       "      <td>Cupcake</td>\n",
       "      <td>38</td>\n",
       "      <td>15</td>\n",
       "      <td>31</td>\n",
       "      <td>8</td>\n",
       "      <td>6</td>\n",
       "      <td>1</td>\n",
       "      <td>1</td>\n",
       "      <td>0</td>\n",
       "    </tr>\n",
       "    <tr>\n",
       "      <th>18</th>\n",
       "      <td>Cupcake</td>\n",
       "      <td>36</td>\n",
       "      <td>16</td>\n",
       "      <td>24</td>\n",
       "      <td>12</td>\n",
       "      <td>9</td>\n",
       "      <td>1</td>\n",
       "      <td>1</td>\n",
       "      <td>0</td>\n",
       "    </tr>\n",
       "    <tr>\n",
       "      <th>19</th>\n",
       "      <td>Cupcake</td>\n",
       "      <td>34</td>\n",
       "      <td>17</td>\n",
       "      <td>23</td>\n",
       "      <td>11</td>\n",
       "      <td>13</td>\n",
       "      <td>0</td>\n",
       "      <td>1</td>\n",
       "      <td>0</td>\n",
       "    </tr>\n",
       "  </tbody>\n",
       "</table>\n",
       "</div>"
      ],
      "text/plain": [
       "       Type  Flour  Milk  Sugar  Butter  Egg  Baking Powder  Vanilla  Salt\n",
       "0    Muffin     55    28      3       7    5              2        0     0\n",
       "1    Muffin     47    24     12       6    9              1        0     0\n",
       "2    Muffin     47    23     18       6    4              1        0     0\n",
       "3    Muffin     45    11     17      17    8              1        0     0\n",
       "4    Muffin     50    25     12       6    5              2        1     0\n",
       "5    Muffin     55    27      3       7    5              2        1     0\n",
       "6    Muffin     54    27      7       5    5              2        0     0\n",
       "7    Muffin     47    26     10      10    4              1        0     0\n",
       "8    Muffin     50    17     17       8    6              1        0     0\n",
       "9    Muffin     50    17     17      11    4              1        0     0\n",
       "10  Cupcake     39     0     26      19   14              1        1     0\n",
       "11  Cupcake     42    21     16      10    8              3        0     0\n",
       "12  Cupcake     34    17     20      20    5              2        1     0\n",
       "13  Cupcake     39    13     17      19   10              1        1     0\n",
       "14  Cupcake     38    15     23      15    8              0        1     0\n",
       "15  Cupcake     42    18     25       9    5              1        0     0\n",
       "16  Cupcake     36    14     21      14   11              2        1     0\n",
       "17  Cupcake     38    15     31       8    6              1        1     0\n",
       "18  Cupcake     36    16     24      12    9              1        1     0\n",
       "19  Cupcake     34    17     23      11   13              0        1     0"
      ]
     },
     "execution_count": 19,
     "metadata": {},
     "output_type": "execute_result"
    }
   ],
   "source": [
    "# Read in muffin and cupcake ingredient data\n",
    "recipes = pd.read_csv('recipes_muffins_cupcakes.csv')\n",
    "recipes"
   ]
  },
  {
   "cell_type": "markdown",
   "metadata": {},
   "source": [
    "__Step 3:__ Prepare the Data"
   ]
  },
  {
   "cell_type": "code",
   "execution_count": 21,
   "metadata": {},
   "outputs": [
    {
     "data": {
      "image/png": "[encoded data removed]",
      "text/plain": [
       "<Figure size 459.77x360 with 1 Axes>"
      ]
     },
     "metadata": {
      "needs_background": "light"
     },
     "output_type": "display_data"
    }
   ],
   "source": [
    "# Plot two ingredients\n",
    "sns.lmplot('Flour', 'Sugar', data=recipes, hue='Type',\n",
    "           palette='Set1', fit_reg=False, scatter_kws={\"s\": 70});"
   ]
  },
  {
   "cell_type": "code",
   "execution_count": 24,
   "metadata": {},
   "outputs": [
    {
     "name": "stderr",
     "output_type": "stream",
     "text": [
      "/Users/macbookpro/Documents/workspace/PYTHON/JUPYTER/svm-demo/env/lib/python3.7/site-packages/ipykernel_launcher.py:3: FutureWarning: Method .as_matrix will be removed in a future version. Use .values instead.\n",
      "  This is separate from the ipykernel package so we can avoid doing imports until\n"
     ]
    },
    {
     "data": {
      "text/plain": [
       "['Flour', 'Milk', 'Sugar', 'Butter', 'Egg', 'Baking Powder', 'Vanilla', 'Salt']"
      ]
     },
     "execution_count": 24,
     "metadata": {},
     "output_type": "execute_result"
    }
   ],
   "source": [
    "# Specify inputs for the model\n",
    "# ingredients = recipes[['Flour', 'Milk', 'Sugar', 'Butter', 'Egg', 'Baking Powder', 'Vanilla', 'Salt']].as_matrix()\n",
    "ingredients = recipes[['Flour','Sugar']].as_matrix()\n",
    "type_label = np.where(recipes['Type']=='Muffin', 0, 1)\n",
    "\n",
    "# Feature names\n",
    "recipe_features = recipes.columns.values[1:].tolist()\n",
    "recipe_features"
   ]
  },
  {
   "cell_type": "markdown",
   "metadata": {},
   "source": [
    "__Step 4:__ Fit the Model"
   ]
  },
  {
   "cell_type": "code",
   "execution_count": 9,
   "metadata": {},
   "outputs": [
    {
     "data": {
      "text/plain": [
       "SVC(C=1.0, cache_size=200, class_weight=None, coef0=0.0,\n",
       "  decision_function_shape='ovr', degree=3, gamma='auto_deprecated',\n",
       "  kernel='linear', max_iter=-1, probability=False, random_state=None,\n",
       "  shrinking=True, tol=0.001, verbose=False)"
      ]
     },
     "execution_count": 9,
     "metadata": {},
     "output_type": "execute_result"
    }
   ],
   "source": [
    "# Fit the SVM model\n",
    "model = svm.SVC(kernel='linear')\n",
    "model.fit(ingredients, type_label)"
   ]
  },
  {
   "cell_type": "markdown",
   "metadata": {},
   "source": [
    "__Step 5:__ Visualize Results"
   ]
  },
  {
   "cell_type": "code",
   "execution_count": 10,
   "metadata": {},
   "outputs": [],
   "source": [
    "# Get the separating hyperplane\n",
    "w = model.coef_[0]\n",
    "a = -w[0] / w[1]\n",
    "xx = np.linspace(30, 60)\n",
    "yy = a * xx - (model.intercept_[0]) / w[1]\n",
    "\n",
    "# Plot the parallels to the separating hyperplane that pass through the support vectors\n",
    "b = model.support_vectors_[0]\n",
    "yy_down = a * xx + (b[1] - a * b[0])\n",
    "b = model.support_vectors_[-1]\n",
    "yy_up = a * xx + (b[1] - a * b[0])"
   ]
  },
  {
   "cell_type": "code",
   "execution_count": 11,
   "metadata": {},
   "outputs": [
    {
     "data": {
      "image/png": "[encoded data removed]",
      "text/plain": [
       "<Figure size 459.77x360 with 1 Axes>"
      ]
     },
     "metadata": {
      "needs_background": "light"
     },
     "output_type": "display_data"
    }
   ],
   "source": [
    "# Plot the hyperplane\n",
    "sns.lmplot('Flour', 'Sugar', data=recipes, hue='Type', palette='Set1', fit_reg=False, scatter_kws={\"s\": 70})\n",
    "plt.plot(xx, yy, linewidth=2, color='black');"
   ]
  },
  {
   "cell_type": "code",
   "execution_count": 12,
   "metadata": {},
   "outputs": [
    {
     "data": {
      "image/png": "[encoded data removed]",
      "text/plain": [
       "<Figure size 459.77x360 with 1 Axes>"
      ]
     },
     "metadata": {
      "needs_background": "light"
     },
     "output_type": "display_data"
    }
   ],
   "source": [
    "# Look at the margins and support vectors\n",
    "sns.lmplot('Flour', 'Sugar', data=recipes, hue='Type', palette='Set1', fit_reg=False, scatter_kws={\"s\": 70})\n",
    "plt.plot(xx, yy, linewidth=2, color='black')\n",
    "plt.plot(xx, yy_down, 'k--')\n",
    "plt.plot(xx, yy_up, 'k--')\n",
    "plt.scatter(model.support_vectors_[:, 0], model.support_vectors_[:, 1],\n",
    "            s=80, facecolors='none');"
   ]
  },
  {
   "cell_type": "markdown",
   "metadata": {},
   "source": [
    "__Step 6:__ Predict New Case"
   ]
  },
  {
   "cell_type": "code",
   "execution_count": 14,
   "metadata": {},
   "outputs": [],
   "source": [
    "# Create a function to guess when a recipe is a muffin or a cupcake\n",
    "def muffin_or_cupcake(flour, sugar):\n",
    "    if(model.predict([[flour, sugar]]))==0:\n",
    "        print('You\\'re looking at a muffin recipe!')\n",
    "    else:\n",
    "        print('You\\'re looking at a cupcake recipe!')"
   ]
  },
  {
   "cell_type": "code",
   "execution_count": 15,
   "metadata": {},
   "outputs": [
    {
     "name": "stdout",
     "output_type": "stream",
     "text": [
      "You're looking at a cupcake recipe!\n"
     ]
    }
   ],
   "source": [
    "# Predict if 50 parts flour and 20 parts sugar\n",
    "muffin_or_cupcake(20, 7)"
   ]
  },
  {
   "cell_type": "code",
   "execution_count": 23,
   "metadata": {},
   "outputs": [
    {
     "data": {
      "image/png": "[encoded data removed]",
      "text/plain": [
       "<matplotlib.figure.Figure at 0x10b639b70>"
      ]
     },
     "metadata": {},
     "output_type": "display_data"
    }
   ],
   "source": [
    "# Plot the point to visually see where the point lies\n",
    "sns.lmplot('Flour', 'Sugar', data=recipes, hue='Type', palette='Set1', fit_reg=False, scatter_kws={\"s\": 70})\n",
    "plt.plot(xx, yy, linewidth=2, color='black')\n",
    "plt.plot(50, 20, 'yo', markersize='9');"
   ]
  },
  {
   "cell_type": "code",
   "execution_count": 24,
   "metadata": {},
   "outputs": [
    {
     "name": "stdout",
     "output_type": "stream",
     "text": [
      "You're looking at a cupcake recipe!\n"
     ]
    }
   ],
   "source": [
    "# Predict if 40 parts flour and 20 parts sugar\n",
    "muffin_or_cupcake(40,20)"
   ]
  },
  {
   "cell_type": "code",
   "execution_count": 25,
   "metadata": {
    "collapsed": true
   },
   "outputs": [],
   "source": [
    "muffin_cupcake_dict = {'muffin_cupcake_model': model, 'muffin_cupcake_features': ['Flour','Sugar'], 'all_features': recipe_features}"
   ]
  },
  {
   "cell_type": "code",
   "execution_count": 26,
   "metadata": {},
   "outputs": [
    {
     "data": {
      "text/plain": [
       "{'all_features': ['Flour',\n",
       "  'Milk',\n",
       "  'Sugar',\n",
       "  'Butter',\n",
       "  'Egg',\n",
       "  'Baking Powder',\n",
       "  'Vanilla',\n",
       "  'Salt'],\n",
       " 'muffin_cupcake_features': ['Flour', 'Sugar'],\n",
       " 'muffin_cupcake_model': SVC(C=1.0, cache_size=200, class_weight=None, coef0=0.0,\n",
       "   decision_function_shape=None, degree=3, gamma='auto', kernel='linear',\n",
       "   max_iter=-1, probability=False, random_state=None, shrinking=True,\n",
       "   tol=0.001, verbose=False)}"
      ]
     },
     "execution_count": 26,
     "metadata": {},
     "output_type": "execute_result"
    }
   ],
   "source": [
    "muffin_cupcake_dict"
   ]
  },
  {
   "cell_type": "code",
   "execution_count": 210,
   "metadata": {
    "collapsed": true
   },
   "outputs": [],
   "source": [
    "# Pickle\n",
    "pickle.dump(muffin_cupcake_dict, open(\"muffin_cupcake_dict.p\", \"wb\"))"
   ]
  },
  {
   "cell_type": "code",
   "execution_count": 211,
   "metadata": {},
   "outputs": [
    {
     "data": {
      "text/plain": [
       "\"(dp0\\nS'muffin_cupcake_features'\\np1\\n(lp2\\nS'Flour'\\np3\\naS'Sugar'\\np4\\nasS'muffin_cupcake_model'\\np5\\nccopy_reg\\n_reconstructor\\np6\\n(csklearn.svm.classes\\nSVC\\np7\\nc__builtin__\\nobject\\np8\\nNtp9\\nRp10\\n(dp11\\nS'_impl'\\np12\\nS'c_svc'\\np13\\nsS'kernel'\\np14\\nS'linear'\\np15\\nsS'verbose'\\np16\\nI00\\nsS'probability'\\np17\\nI00\\nsS'classes_'\\np18\\ncnumpy.core.multiarray\\n_reconstruct\\np19\\n(cnumpy\\nndarray\\np20\\n(I0\\ntp21\\nS'b'\\np22\\ntp23\\nRp24\\n(I1\\n(I2\\ntp25\\ncnumpy\\ndtype\\np26\\n(S'i8'\\np27\\nI0\\nI1\\ntp28\\nRp29\\n(I3\\nS'<'\\np30\\nNNNI-1\\nI-1\\nI0\\ntp31\\nbI00\\nS'\\\\x00\\\\x00\\\\x00\\\\x00\\\\x00\\\\x00\\\\x00\\\\x00\\\\x01\\\\x00\\\\x00\\\\x00\\\\x00\\\\x00\\\\x00\\\\x00'\\np32\\ntp33\\nbsS'support_'\\np34\\ng19\\n(g20\\n(I0\\ntp35\\ng22\\ntp36\\nRp37\\n(I1\\n(I3\\ntp38\\ng26\\n(S'i4'\\np39\\nI0\\nI1\\ntp40\\nRp41\\n(I3\\nS'<'\\np42\\nNNNI-1\\nI-1\\nI0\\ntp43\\nbI00\\nS'\\\\x03\\\\x00\\\\x00\\\\x00\\\\x0b\\\\x00\\\\x00\\\\x00\\\\x0f\\\\x00\\\\x00\\\\x00'\\np44\\ntp45\\nbsS'dual_coef_'\\np46\\ng19\\n(g20\\n(I0\\ntp47\\ng22\\ntp48\\nRp49\\n(I1\\n(I1\\nI3\\ntp50\\ng26\\n(S'f8'\\np51\\nI0\\nI1\\ntp52\\nRp53\\n(I3\\nS'<'\\np54\\nNNNI-1\\nI-1\\nI0\\ntp55\\nbI00\\nS'\\\\x19;\\\\x16\\\\x81\\\\xfdo\\\\xcc\\\\xbf5\\\\xdf\\\\xda9\\\\x1aG\\\\xc9? \\\\xdf\\\\xda9\\\\x1aG\\\\x99?'\\np56\\ntp57\\nbsS'shrinking'\\np58\\nI01\\nsS'class_weight'\\np59\\nNsS'_gamma'\\np60\\nF0.5\\nsS'probA_'\\np61\\ng19\\n(g20\\n(I0\\ntp62\\ng22\\ntp63\\nRp64\\n(I1\\n(I0\\ntp65\\ng53\\nI00\\nS''\\np66\\ntp67\\nbsS'_sparse'\\np68\\nI00\\nsS'class_weight_'\\np69\\ng19\\n(g20\\n(I0\\ntp70\\ng22\\ntp71\\nRp72\\n(I1\\n(I2\\ntp73\\ng53\\nI00\\nS'\\\\x00\\\\x00\\\\x00\\\\x00\\\\x00\\\\x00\\\\xf0?\\\\x00\\\\x00\\\\x00\\\\x00\\\\x00\\\\x00\\\\xf0?'\\np74\\ntp75\\nbsS'random_state'\\np76\\nNsS'_sklearn_version'\\np77\\nS'0.18.1'\\np78\\nsS'tol'\\np79\\nF0.001\\nsS'coef0'\\np80\\nF0.0\\nsS'nu'\\np81\\nF0.0\\nsS'n_support_'\\np82\\ng19\\n(g20\\n(I0\\ntp83\\ng22\\ntp84\\nRp85\\n(I1\\n(I2\\ntp86\\ng41\\nI00\\nS'\\\\x01\\\\x00\\\\x00\\\\x00\\\\x02\\\\x00\\\\x00\\\\x00'\\np87\\ntp88\\nbsS'shape_fit_'\\np89\\n(I20\\nI2\\ntp90\\nsS'C'\\np91\\nF1.0\\nsS'support_vectors_'\\np92\\ng19\\n(g20\\n(I0\\ntp93\\ng22\\ntp94\\nRp95\\n(I1\\n(I3\\nI2\\ntp96\\ng53\\nI00\\nS'\\\\x00\\\\x00\\\\x00\\\\x00\\\\x00\\\\x80F@\\\\x00\\\\x00\\\\x00\\\\x00\\\\x00\\\\x001@\\\\x00\\\\x00\\\\x00\\\\x00\\\\x00\\\\x00E@\\\\x00\\\\x00\\\\x00\\\\x00\\\\x00\\\\x000@\\\\x00\\\\x00\\\\x00\\\\x00\\\\x00\\\\x00E@\\\\x00\\\\x00\\\\x00\\\\x00\\\\x00\\\\x009@'\\np97\\ntp98\\nbsS'_dual_coef_'\\np99\\ng19\\n(g20\\n(I0\\ntp100\\ng22\\ntp101\\nRp102\\n(I1\\n(I1\\nI3\\ntp103\\ng53\\nI00\\nS'\\\\x19;\\\\x16\\\\x81\\\\xfdo\\\\xcc?5\\\\xdf\\\\xda9\\\\x1aG\\\\xc9\\\\xbf \\\\xdf\\\\xda9\\\\x1aG\\\\x99\\\\xbf'\\np104\\ntp105\\nbsS'degree'\\np106\\nI3\\nsS'epsilon'\\np107\\nF0.0\\nsS'max_iter'\\np108\\nI-1\\nsS'decision_function_shape'\\np109\\nNsS'fit_status_'\\np110\\nI0\\nsS'_intercept_'\\np111\\ng19\\n(g20\\n(I0\\ntp112\\ng22\\ntp113\\nRp114\\n(I1\\n(I1\\ntp115\\ng53\\nI00\\nS'\\\\xe9\\\\xbcm\\\\xd12\\\\xfe<\\\\xc0'\\np116\\ntp117\\nbsS'intercept_'\\np118\\ng19\\n(g20\\n(I0\\ntp119\\ng22\\ntp120\\nRp121\\n(I1\\n(I1\\ntp122\\ng53\\nI00\\nS'\\\\xe9\\\\xbcm\\\\xd12\\\\xfe<@'\\np123\\ntp124\\nbsS'probB_'\\np125\\ng19\\n(g20\\n(I0\\ntp126\\ng22\\ntp127\\nRp128\\n(I1\\n(I0\\ntp129\\ng53\\nI00\\ng66\\ntp130\\nbsS'cache_size'\\np131\\nI200\\nsS'gamma'\\np132\\nS'auto'\\np133\\nsbsS'all_features'\\np134\\n(lp135\\nS'Flour'\\np136\\naS'Milk'\\np137\\naS'Sugar'\\np138\\naS'Butter'\\np139\\naS'Egg'\\np140\\naS'Baking Powder'\\np141\\naS'Vanilla'\\np142\\naS'Salt'\\np143\\nas.\""
      ]
     },
     "execution_count": 211,
     "metadata": {},
     "output_type": "execute_result"
    }
   ],
   "source": [
    "# S = String\n",
    "pickle.dumps(muffin_cupcake_dict)"
   ]
  },
  {
   "cell_type": "code",
   "execution_count": null,
   "metadata": {
    "collapsed": true
   },
   "outputs": [],
   "source": []
  }
 ],
 "metadata": {
  "kernelspec": {
   "display_name": "Python 3",
   "language": "python",
   "name": "python3"
  },
  "language_info": {
   "codemirror_mode": {
    "name": "ipython",
    "version": 3
   },
   "file_extension": ".py",
   "mimetype": "text/x-python",
   "name": "python",
   "nbconvert_exporter": "python",
   "pygments_lexer": "ipython3",
   "version": "3.7.2"
  },
  "toc": {
   "colors": {
    "hover_highlight": "#DAA520",
    "navigate_num": "#000000",
    "navigate_text": "#333333",
    "running_highlight": "#FF0000",
    "selected_highlight": "#FFD700",
    "sidebar_border": "#EEEEEE",
    "wrapper_background": "#FFFFFF"
   },
   "moveMenuLeft": true,
   "nav_menu": {
    "height": "12px",
    "width": "252px"
   },
   "navigate_menu": true,
   "number_sections": true,
   "sideBar": true,
   "threshold": 4,
   "toc_cell": false,
   "toc_section_display": "block",
   "toc_window_display": false,
   "widenNotebook": false
  }
 },
 "nbformat": 4,
 "nbformat_minor": 1
}
